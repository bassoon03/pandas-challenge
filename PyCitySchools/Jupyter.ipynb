{
 "cells": [
  {
   "cell_type": "code",
   "execution_count": 1,
   "metadata": {},
   "outputs": [],
   "source": [
    "import pandas as pd"
   ]
  },
  {
   "cell_type": "code",
   "execution_count": null,
   "metadata": {},
   "outputs": [],
   "source": [
    "school_data_file = \"C:\\\\Users\\\\Owner\\\\OneDrive\\\\Desktop\\\\pandas-challenge-1\\\\schools_complete.csv\"\n",
    "student_data_file = \"C:\\\\Users\\\\Owner\\\\OneDrive\\\\Desktop\\\\pandas-challenge-1\\\\students_complete.csv\"\n",
    "\n",
    "school_data_read = pd.read_csv(school_data_file)\n",
    "student_data_read = pd.read_csv(student_data_file)\n",
    "\n"
   ]
  }
 ],
 "metadata": {
  "kernelspec": {
   "display_name": "Python 3",
   "language": "python",
   "name": "python3"
  },
  "language_info": {
   "codemirror_mode": {
    "name": "ipython",
    "version": 3
   },
   "file_extension": ".py",
   "mimetype": "text/x-python",
   "name": "python",
   "nbconvert_exporter": "python",
   "pygments_lexer": "ipython3",
   "version": "3.11.7"
  }
 },
 "nbformat": 4,
 "nbformat_minor": 2
}
